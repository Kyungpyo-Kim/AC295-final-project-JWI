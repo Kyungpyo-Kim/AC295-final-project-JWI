{
 "cells": [
  {
   "cell_type": "code",
   "execution_count": null,
   "metadata": {},
   "outputs": [],
   "source": [
    "import os, sys\n",
    "module_path = os.path.abspath(os.path.join('../'))\n",
    "if module_path not in sys.path:\n",
    "    sys.path.append(module_path)\n",
    "\n",
    "%matplotlib widget\n",
    "import numpy as np\n",
    "import matplotlib.pyplot as plt\n",
    "import ipywidgets as widgets\n",
    "from skimage import io\n",
    "\n",
    "# out = widgets.Output()\n",
    "\n",
    "from lib.labelling import *\n"
   ]
  },
  {
   "cell_type": "code",
   "execution_count": null,
   "metadata": {},
   "outputs": [],
   "source": [
    "# from IPython.display import clear_output\n",
    "# from matplotlib.widgets import LassoSelector\n",
    "# from matplotlib.path import Path\n",
    "\n",
    "\n",
    "\n",
    "\n",
    "\n",
    "# out.clear_output()\n",
    "plt.close('all')\n",
    "obj = image_segmenter('images', ['mother','daughter'])\n",
    "# zoom_factory(obj.ax)\n",
    "\n",
    "from sidecar import Sidecar\n",
    "sc = Sidecar(title='Segmentation area')\n",
    "with sc:\n",
    "    display(obj)\n",
    "# out"
   ]
  }
 ],
 "metadata": {
  "kernelspec": {
   "display_name": "Python 3",
   "language": "python",
   "name": "python3"
  },
  "language_info": {
   "codemirror_mode": {
    "name": "ipython",
    "version": 3
   },
   "file_extension": ".py",
   "mimetype": "text/x-python",
   "name": "python",
   "nbconvert_exporter": "python",
   "pygments_lexer": "ipython3",
   "version": "3.8.2"
  }
 },
 "nbformat": 4,
 "nbformat_minor": 4
}
