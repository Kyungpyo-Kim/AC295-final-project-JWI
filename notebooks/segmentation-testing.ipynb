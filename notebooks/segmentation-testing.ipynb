{
 "cells": [
  {
   "cell_type": "code",
   "execution_count": 1,
   "metadata": {},
   "outputs": [],
   "source": [
    "%matplotlib widget\n",
    "import numpy as np\n",
    "import matplotlib.pyplot as plt\n",
    "from ipywidgets import interact, interactive, fixed, interact_manual\n",
    "import ipywidgets as widgets\n",
    "from skimage import io\n",
    "from skimage.color import rgb2grey\n",
    "from skimage.filters import sobel\n",
    "from skimage import filters\n",
    "\n",
    "def imread_convert(f):\n",
    "    return rgb2grey(io.imread(f))\n",
    "out = widgets.Output()\n",
    "from skimage.segmentation import flood"
   ]
  },
  {
   "cell_type": "code",
   "execution_count": 113,
   "metadata": {},
   "outputs": [
    {
     "data": {
      "application/vnd.jupyter.widget-view+json": {
       "model_id": "1d5393c35d0e48f2acbb692fd403af50",
       "version_major": 2,
       "version_minor": 0
      },
      "text/plain": [
       "Output()"
      ]
     },
     "metadata": {},
     "output_type": "display_data"
    }
   ],
   "source": [
    "from IPython.display import clear_output\n",
    "from matplotlib.widgets import LassoSelector\n",
    "from matplotlib.path import Path\n",
    "from matplotlib.path import Path\n",
    "\n",
    "\n",
    "\n",
    "class single_image_segmenter:\n",
    "    def __init__(self, img, classes, overlay_alpha=.5,figsize=(10,10)):\n",
    "        \"\"\"\n",
    "        TODO allow for intializing with a shape instead of an image\n",
    "        \n",
    "        parameters\n",
    "        ----------\n",
    "        classes : Int or list\n",
    "            Number of classes or a list of class names\n",
    "        ensure_rgba : boolean\n",
    "            whether to force the displayed image to have an alpha channel to enable transparent overlay\n",
    "        \"\"\"\n",
    "        plt.ioff() # see https://github.com/matplotlib/matplotlib/issues/17013\n",
    "        self.fig = plt.figure(figsize=figsize)\n",
    "        self.ax = self.fig.gca()\n",
    "        lineprops = {'color': 'black', 'linewidth': 1, 'alpha': 0.8}\n",
    "        self.lasso = LassoSelector(self.ax, self.onselect,lineprops=lineprops)\n",
    "        self.lasso.set_visible(True)\n",
    "        self.fig.canvas.mpl_connect('button_press_event', self.onclick)\n",
    "        \n",
    "        \n",
    "        # setup lasso stuff\n",
    "        \n",
    "        self.shape = None\n",
    "\n",
    "\n",
    "        self.new_image(img)\n",
    "\n",
    "        \n",
    "\n",
    "        plt.ion()\n",
    "        \n",
    "        if isinstance(classes, int):\n",
    "            classes = np.arange(classes)\n",
    "        if len(classes)<=10:\n",
    "            self.colors = 'tab10'\n",
    "        elif len(classes)<=20:\n",
    "            self.colors = 'tab20'\n",
    "        else:\n",
    "            raise ValueError(f'Currently only up to 20 classes are supported, you tried to use {len(classes)} classes')\n",
    "        \n",
    "        self.colors = plt.get_cmap(self.colors)(np.arange(len(classes)))[:,:3]\n",
    "        \n",
    "        self.class_dropdown = widgets.Dropdown(\n",
    "                options=[(str(classes[i]), i) for i in range(len(classes))],\n",
    "                value=0,\n",
    "                description='Class:',\n",
    "                disabled=False,\n",
    "            )\n",
    "        self.lasso_button = widgets.Button(\n",
    "            description='lasso select',\n",
    "            disabled=False,\n",
    "            button_style='success', # 'success', 'info', 'warning', 'danger' or ''\n",
    "            icon='mouse-pointer', # (FontAwesome names without the `fa-` prefix)\n",
    "        )\n",
    "        self.flood_button = widgets.Button(\n",
    "            description='flood fill',\n",
    "            disabled=False,\n",
    "            button_style='', # 'success', 'info', 'warning', 'danger' or ''\n",
    "            icon='fill-drip', # (FontAwesome names without the `fa-` prefix)\n",
    "        )\n",
    "        \n",
    "        self.erase_check_box = widgets.Checkbox(\n",
    "            value=False,\n",
    "            description='Erase Mode',\n",
    "            disabled=False,\n",
    "            indent=False\n",
    "        )\n",
    "        \n",
    "        self.reset_button = widgets.Button(\n",
    "            description='reset',\n",
    "            disabled=False,\n",
    "            button_style='', # 'success', 'info', 'warning', 'danger' or ''\n",
    "            icon='refresh', # (FontAwesome names without the `fa-` prefix)\n",
    "        )\n",
    "        self.reset_button.on_click(self.reset)\n",
    "        def button_click(button):\n",
    "            if button.description == 'flood fill':\n",
    "                self.flood_button.button_style='success'\n",
    "                self.lasso_button.button_style=''\n",
    "                self.lasso.set_active(False)\n",
    "            else:\n",
    "                self.flood_button.button_style=''\n",
    "                self.lasso_button.button_style='success'\n",
    "                self.lasso.set_active(True)\n",
    "        \n",
    "        self.lasso_button.on_click(button_click)\n",
    "        self.flood_button.on_click(button_click)\n",
    "        self.overlay_alpha = overlay_alpha\n",
    "    def new_image(self, img):\n",
    "        self.img = img\n",
    "        if img.shape != self.shape:\n",
    "            self.shape = img.shape\n",
    "            pix_x = np.arange(self.shape[0])\n",
    "            pix_y = np.arange(self.shape[1])\n",
    "            xv, yv = np.meshgrid(pix_y,pix_x)\n",
    "            self.pix = np.vstack( (xv.flatten(), yv.flatten()) ).T\n",
    "            self.displayed = self.ax.imshow(self.img)\n",
    "            self.class_mask = -np.ones([self.shape[0],self.shape[1]],dtype=np.int)\n",
    "        else:\n",
    "            self.displayed.set_data(self.img)\n",
    "            self.class_mask[:,:] = -1\n",
    "        \n",
    "\n",
    "    def reset(self,*args):\n",
    "        self.displayed.set_data(self.img)\n",
    "        self.class_mask[:,:] = -1\n",
    "        self.fig.canvas.draw()\n",
    "\n",
    "    def onclick(self, event):\n",
    "        \"\"\"\n",
    "        handle clicking to remove already added stuff\n",
    "        \"\"\"\n",
    "\n",
    "        if event.xdata is not None and not self.lasso.active:\n",
    "            with out:\n",
    "                # transpose x and y bc imshow transposes\n",
    "                self.indices = flood(self.class_mask,(np.int(event.ydata), np.int(event.xdata)))\n",
    "                self.updateArray()\n",
    "        \n",
    "    def updateArray(self):\n",
    "        with out:\n",
    "            array = self.displayed.get_array().data\n",
    "            \n",
    "            if self.erase_check_box.value:\n",
    "                self.class_mask[self.indices] = -1\n",
    "                array[self.indices] = self.img[self.indices]\n",
    "            else:\n",
    "                self.class_mask[self.indices] = self.class_dropdown.value\n",
    "                # https://en.wikipedia.org/wiki/Alpha_compositing#Straight_versus_premultiplied           \n",
    "                c_overlay = self.colors[self.class_dropdown.value]*255*self.overlay_alpha\n",
    "                array[self.indices] = c_overlay + self.img[self.indices]*(1-self.overlay_alpha)\n",
    "            self.displayed.set_data(array)\n",
    "        self.ax.set_title(np.sum(array==1.1))\n",
    "        \n",
    "    def onselect(self,verts):\n",
    "        self.verts = verts\n",
    "        p = Path(verts)\n",
    "\n",
    "        self.indices = p.contains_points(self.pix, radius=0).reshape(450,540)\n",
    "\n",
    "        self.updateArray()\n",
    "        self.fig.canvas.draw_idle()\n",
    "        \n",
    "    def render(self):\n",
    "        layers = [widgets.HBox([self.lasso_button, self.flood_button])]\n",
    "        layers.append(widgets.HBox([self.reset_button, self.class_dropdown,self.erase_check_box]))\n",
    "        layers.append(self.fig.canvas)    \n",
    "        return widgets.VBox(layers)\n",
    "    \n",
    "    def _ipython_display_(self):\n",
    "        display(self.render())\n",
    "\n",
    "def zoom_factory(ax,base_scale = 1.1):\n",
    "    def limits_to_range(lim):\n",
    "        return lim[1] - lim[0]\n",
    "    \n",
    "    fig = ax.get_figure() # get the figure of interest\n",
    "    toolbar = fig.canvas.toolbar\n",
    "    toolbar.push_current()\n",
    "    orig_xlim = ax.get_xlim()\n",
    "    orig_ylim = ax.get_ylim()\n",
    "    orig_yrange = limits_to_range(orig_ylim)\n",
    "    orig_xrange = limits_to_range(orig_xlim)\n",
    "    orig_center = ((orig_xlim[0]+orig_xlim[1])/2, (orig_ylim[0]+orig_ylim[1])/2)\n",
    "\n",
    "    def zoom_fun(event):\n",
    "        # get the current x and y limits\n",
    "        cur_xlim = ax.get_xlim()\n",
    "        cur_ylim = ax.get_ylim()\n",
    "        # set the range\n",
    "        cur_xrange = (cur_xlim[1] - cur_xlim[0])*.5\n",
    "        cur_yrange = (cur_ylim[1] - cur_ylim[0])*.5\n",
    "        xdata = event.xdata # get event x location\n",
    "        ydata = event.ydata # get event y location\n",
    "        if event.button == 'up':\n",
    "            # deal with zoom in\n",
    "            scale_factor = base_scale\n",
    "        elif event.button == 'down':\n",
    "            # deal with zoom out\n",
    "#             if orig_xlim[0]<cur_xlim[0] \n",
    "            scale_factor = 1/base_scale\n",
    "        else:\n",
    "            # deal with something that should never happen\n",
    "            scale_factor = 1\n",
    "#             print(event.button)\n",
    "        # set new limits\n",
    "        new_xlim = [xdata - (xdata-cur_xlim[0]) / scale_factor,\n",
    "                     xdata + (cur_xlim[1]-xdata) / scale_factor]\n",
    "        new_ylim = [ydata - (ydata-cur_ylim[0]) / scale_factor,\n",
    "                         ydata + (cur_ylim[1]-ydata) / scale_factor]\n",
    "        new_yrange = limits_to_range(new_ylim)\n",
    "        new_xrange = limits_to_range(new_xlim)\n",
    "\n",
    "        with out:\n",
    "            if np.abs(new_yrange)>np.abs(orig_yrange):\n",
    "                new_ylim = orig_center[1] -new_yrange/2 , orig_center[1] +new_yrange/2\n",
    "            if np.abs(new_xrange)>np.abs(orig_xrange):\n",
    "                new_xlim = orig_center[0] -new_xrange/2 , orig_center[0] +new_xrange/2\n",
    "        ax.set_xlim(new_xlim)\n",
    "        ax.set_ylim(new_ylim)\n",
    "\n",
    "        toolbar.push_current()\n",
    "        ax.figure.canvas.draw_idle() # force re-draw\n",
    "\n",
    "\n",
    "    # attach the call back\n",
    "    cid = fig.canvas.mpl_connect('scroll_event',zoom_fun)\n",
    "    def disconnect_zoom():\n",
    "        fig.canvas.mpl_disconnect(cid)    \n",
    "\n",
    "    #return the function\n",
    "    return disconnect_zoom\n",
    "out.clear_output()\n",
    "plt.close('all')\n",
    "tstimage = io.imread('test-image.jpg')\n",
    "obj = single_image_segmenter(tstimage, ['class1', 'yeast'])\n",
    "# zoom_factory(obj.ax)\n",
    "from sidecar import Sidecar\n",
    "from ipywidgets import IntSlider\n",
    "sc = Sidecar(title='Segmentation area')\n",
    "sl = IntSlider(description='Some slider')\n",
    "with sc:\n",
    "    # force the _nav_stack to record the initial position so the home button works as expected\n",
    "    obj.fig.canvas.toolbar.push_current()\n",
    "    zoom_factory(obj.ax)\n",
    "    display(obj)\n",
    "out"
   ]
  },
  {
   "cell_type": "code",
   "execution_count": 36,
   "metadata": {},
   "outputs": [],
   "source": [
    "from matplotlib.backend_bases import MouseEvent"
   ]
  },
  {
   "cell_type": "code",
   "execution_count": 37,
   "metadata": {},
   "outputs": [
    {
     "data": {
      "text/plain": [
       "<matplotlib.backend_bases.MouseEvent at 0x7f08681ab640>"
      ]
     },
     "execution_count": 37,
     "metadata": {},
     "output_type": "execute_result"
    }
   ],
   "source": []
  },
  {
   "cell_type": "code",
   "execution_count": 3,
   "metadata": {},
   "outputs": [],
   "source": [
    "small = obj.displayed.get_array()\n",
    "small = small[:200,:]\n",
    "obj.displayed.set_data(small)"
   ]
  },
  {
   "cell_type": "code",
   "execution_count": 4,
   "metadata": {},
   "outputs": [
    {
     "data": {
      "text/plain": [
       "<matplotlib.image.AxesImage at 0x7f08ad2612e0>"
      ]
     },
     "execution_count": 4,
     "metadata": {},
     "output_type": "execute_result"
    }
   ],
   "source": [
    "obj.ax.imshow(small)"
   ]
  },
  {
   "cell_type": "code",
   "execution_count": 104,
   "metadata": {},
   "outputs": [
    {
     "data": {
      "text/plain": [
       "(449.5, -0.5)"
      ]
     },
     "execution_count": 104,
     "metadata": {},
     "output_type": "execute_result"
    }
   ],
   "source": [
    "obj.ax.get_ylim()"
   ]
  },
  {
   "cell_type": "code",
   "execution_count": 29,
   "metadata": {},
   "outputs": [],
   "source": []
  },
  {
   "cell_type": "code",
   "execution_count": 17,
   "metadata": {},
   "outputs": [
    {
     "ename": "AttributeError",
     "evalue": "'dict' object has no attribute 'x'",
     "output_type": "error",
     "traceback": [
      "\u001b[0;31m---------------------------------------------------------------------------\u001b[0m",
      "\u001b[0;31mAttributeError\u001b[0m                            Traceback (most recent call last)",
      "\u001b[0;32m<ipython-input-17-8287425dc688>\u001b[0m in \u001b[0;36m<module>\u001b[0;34m\u001b[0m\n\u001b[0;32m----> 1\u001b[0;31m \u001b[0mobj\u001b[0m\u001b[0;34m.\u001b[0m\u001b[0max\u001b[0m\u001b[0;34m.\u001b[0m\u001b[0mdrag_pan\u001b[0m\u001b[0;34m(\u001b[0m\u001b[0;36m1\u001b[0m\u001b[0;34m,\u001b[0m\u001b[0;32mNone\u001b[0m\u001b[0;34m,\u001b[0m\u001b[0;36m20\u001b[0m\u001b[0;34m,\u001b[0m\u001b[0;36m3\u001b[0m\u001b[0;34m)\u001b[0m\u001b[0;34m\u001b[0m\u001b[0;34m\u001b[0m\u001b[0m\n\u001b[0m",
      "\u001b[0;32m~/anaconda3/envs/AC295/lib/python3.8/site-packages/matplotlib/axes/_base.py\u001b[0m in \u001b[0;36mdrag_pan\u001b[0;34m(self, button, key, x, y)\u001b[0m\n\u001b[1;32m   4174\u001b[0m \u001b[0;34m\u001b[0m\u001b[0m\n\u001b[1;32m   4175\u001b[0m         \u001b[0mp\u001b[0m \u001b[0;34m=\u001b[0m \u001b[0mself\u001b[0m\u001b[0;34m.\u001b[0m\u001b[0m_pan_start\u001b[0m\u001b[0;34m\u001b[0m\u001b[0;34m\u001b[0m\u001b[0m\n\u001b[0;32m-> 4176\u001b[0;31m         \u001b[0mdx\u001b[0m \u001b[0;34m=\u001b[0m \u001b[0mx\u001b[0m \u001b[0;34m-\u001b[0m \u001b[0mp\u001b[0m\u001b[0;34m.\u001b[0m\u001b[0mx\u001b[0m\u001b[0;34m\u001b[0m\u001b[0;34m\u001b[0m\u001b[0m\n\u001b[0m\u001b[1;32m   4177\u001b[0m         \u001b[0mdy\u001b[0m \u001b[0;34m=\u001b[0m \u001b[0my\u001b[0m \u001b[0;34m-\u001b[0m \u001b[0mp\u001b[0m\u001b[0;34m.\u001b[0m\u001b[0my\u001b[0m\u001b[0;34m\u001b[0m\u001b[0;34m\u001b[0m\u001b[0m\n\u001b[1;32m   4178\u001b[0m         \u001b[0;32mif\u001b[0m \u001b[0mdx\u001b[0m \u001b[0;34m==\u001b[0m \u001b[0mdy\u001b[0m \u001b[0;34m==\u001b[0m \u001b[0;36m0\u001b[0m\u001b[0;34m:\u001b[0m\u001b[0;34m\u001b[0m\u001b[0;34m\u001b[0m\u001b[0m\n",
      "\u001b[0;31mAttributeError\u001b[0m: 'dict' object has no attribute 'x'"
     ]
    }
   ],
   "source": [
    "obj.ax.drag_pan(1,None,20,3)"
   ]
  },
  {
   "cell_type": "code",
   "execution_count": 16,
   "metadata": {},
   "outputs": [],
   "source": [
    "class pan:\n",
    "\n",
    "obj.ax._pan_start = {'x':0,'y':10}"
   ]
  },
  {
   "cell_type": "code",
   "execution_count": 50,
   "metadata": {},
   "outputs": [
    {
     "data": {
      "application/vnd.jupyter.widget-view+json": {
       "model_id": "fb5c41c5ca094ae0b8183cb5950732fd",
       "version_major": 2,
       "version_minor": 0
      },
      "text/plain": [
       "Toolbar(toolitems=[('Home', 'Reset original view', 'home', 'home'), ('Back', 'Back to previous view', 'arrow-l…"
      ]
     },
     "metadata": {},
     "output_type": "display_data"
    }
   ],
   "source": [
    "obj.fig.canvas.toolbar"
   ]
  },
  {
   "cell_type": "code",
   "execution_count": 51,
   "metadata": {},
   "outputs": [
    {
     "ename": "AttributeError",
     "evalue": "module 'matplotlib.pyplot' has no attribute '_figure'",
     "output_type": "error",
     "traceback": [
      "\u001b[0;31m---------------------------------------------------------------------------\u001b[0m",
      "\u001b[0;31mAttributeError\u001b[0m                            Traceback (most recent call last)",
      "\u001b[0;32m<ipython-input-51-4d48f7e6c0a9>\u001b[0m in \u001b[0;36m<module>\u001b[0;34m\u001b[0m\n\u001b[0;32m----> 1\u001b[0;31m \u001b[0mplt\u001b[0m\u001b[0;34m.\u001b[0m\u001b[0m_figure\u001b[0m\u001b[0;34m(\u001b[0m\u001b[0;34m)\u001b[0m\u001b[0;34m\u001b[0m\u001b[0;34m\u001b[0m\u001b[0m\n\u001b[0m",
      "\u001b[0;31mAttributeError\u001b[0m: module 'matplotlib.pyplot' has no attribute '_figure'"
     ]
    }
   ],
   "source": [
    "plt.figure()"
   ]
  },
  {
   "cell_type": "code",
   "execution_count": 71,
   "metadata": {},
   "outputs": [
    {
     "data": {
      "text/plain": [
       "[(<matplotlib.axes._subplots.AxesSubplot at 0x7f0861205bb0>,\n",
       "  ((-0.5, 539.5, 449.5, -0.5),\n",
       "   (Bbox([[0.125, 0.10999999999999999], [0.9, 0.88]]),\n",
       "    Bbox([[0.125, 0.1720833333333333], [0.9, 0.8179166666666666]]))))]"
      ]
     },
     "execution_count": 71,
     "metadata": {},
     "output_type": "execute_result"
    }
   ],
   "source": [
    "# based on https://github.com/matplotlib/matplotlib/blob/b5d4a6c6b484afaa97ce999b36c03a28ec750ea3/lib/matplotlib/backend_bases.py#L3119-L3135\n",
    "list(obj.fig.canvas.toolbar._nav_stack[0].items())"
   ]
  },
  {
   "cell_type": "code",
   "execution_count": 74,
   "metadata": {},
   "outputs": [
    {
     "data": {
      "text/plain": [
       "Bbox([[0.125, 0.10999999999999999], [0.9, 0.88]])"
      ]
     },
     "execution_count": 74,
     "metadata": {},
     "output_type": "execute_result"
    }
   ],
   "source": [
    "obj.ax.get_position(True)"
   ]
  },
  {
   "cell_type": "code",
   "execution_count": 76,
   "metadata": {},
   "outputs": [
    {
     "data": {
      "text/plain": [
       "Bbox([[0.125, 0.17208333333333342], [0.9, 0.8179166666666666]])"
      ]
     },
     "execution_count": 76,
     "metadata": {},
     "output_type": "execute_result"
    }
   ],
   "source": [
    "obj.ax.get_position()"
   ]
  },
  {
   "cell_type": "code",
   "execution_count": 77,
   "metadata": {},
   "outputs": [],
   "source": [
    "obj.ax.set_position(obj.ax.get_position(True), 'active')"
   ]
  },
  {
   "cell_type": "code",
   "execution_count": 78,
   "metadata": {},
   "outputs": [],
   "source": [
    "obj.fig.canvas.draw()"
   ]
  },
  {
   "cell_type": "code",
   "execution_count": 81,
   "metadata": {},
   "outputs": [],
   "source": [
    "orig = obj.ax._get_view()"
   ]
  },
  {
   "cell_type": "code",
   "execution_count": 82,
   "metadata": {},
   "outputs": [],
   "source": [
    "obj.ax._set_view(orig)"
   ]
  },
  {
   "cell_type": "code",
   "execution_count": null,
   "metadata": {},
   "outputs": [],
   "source": []
  }
 ],
 "metadata": {
  "kernelspec": {
   "display_name": "Python 3",
   "language": "python",
   "name": "python3"
  },
  "language_info": {
   "codemirror_mode": {
    "name": "ipython",
    "version": 3
   },
   "file_extension": ".py",
   "mimetype": "text/x-python",
   "name": "python",
   "nbconvert_exporter": "python",
   "pygments_lexer": "ipython3",
   "version": "3.8.2"
  }
 },
 "nbformat": 4,
 "nbformat_minor": 4
}
