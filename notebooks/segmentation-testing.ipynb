{
 "cells": [
  {
   "cell_type": "code",
   "execution_count": 1,
   "metadata": {},
   "outputs": [],
   "source": [
    "import os, sys\n",
    "module_path = os.path.abspath(os.path.join('../'))\n",
    "if module_path not in sys.path:\n",
    "    sys.path.append(module_path)\n",
    "\n",
    "%matplotlib widget\n",
    "import numpy as np\n",
    "import matplotlib.pyplot as plt\n",
    "from ipywidgets import interact, interactive, fixed, interact_manual\n",
    "import ipywidgets as widgets\n",
    "from skimage import io\n",
    "from skimage.color import rgb2grey\n",
    "from skimage.filters import sobel\n",
    "from skimage import filters\n",
    "\n",
    "def imread_convert(f):\n",
    "    return rgb2grey(io.imread(f))\n",
    "out = widgets.Output()\n",
    "from skimage.segmentation import flood\n",
    "from lib.labelling import *\n",
    "import glob"
   ]
  },
  {
   "cell_type": "code",
   "execution_count": 20,
   "metadata": {},
   "outputs": [
    {
     "data": {
      "application/vnd.jupyter.widget-view+json": {
       "model_id": "9879a5f577624d53b3bd8e1ef010c37e",
       "version_major": 2,
       "version_minor": 0
      },
      "text/plain": [
       "Output()"
      ]
     },
     "metadata": {},
     "output_type": "display_data"
    }
   ],
   "source": [
    "from IPython.display import clear_output\n",
    "from matplotlib.widgets import LassoSelector\n",
    "from matplotlib.path import Path\n",
    "\n",
    "VALID_IMAGE_TYPES = ['jpeg', 'png', 'bmp', 'gif', 'jpg'] # same as supported by keras\n",
    "\n",
    "\n",
    "\n",
    "class image_segmenter:\n",
    "    def __init__(self, img_dir, classes, overlay_alpha=.5,figsize=(10,10)):\n",
    "        \"\"\"\n",
    "        TODO allow for intializing with a shape instead of an image\n",
    "        \n",
    "        parameters\n",
    "        ----------\n",
    "        classes : Int or list\n",
    "            Number of classes or a list of class names\n",
    "        ensure_rgba : boolean\n",
    "            whether to force the displayed image to have an alpha channel to enable transparent overlay\n",
    "        \"\"\"\n",
    "#         if not os.path.exists(img_dir):\n",
    "#             raise ValueError(f\"{img_dir} is not a valid file path\")\n",
    "        \n",
    "#         self.img_dir = img_dir\n",
    "#         self.img_files = \n",
    "        self.img_dir = img_dir\n",
    "        if not os.path.isdir(self.img_dir):\n",
    "            raise ValueError(f\"{img_dir} is not a folder\")\n",
    "        #ensure that there is a sibling directory named masks\n",
    "        self.mask_dir = os.path.abspath(img_dir).rsplit('/', 1)[0] + '/masks'\n",
    "        if not os.path.exists(self.mask_dir):\n",
    "            os.mkdir(self.mask_dir)\n",
    "        elif not os.path.isdir(self.mask_dir):\n",
    "            raise ValueError(f'{self.mask_dir} already exists and is not a folder')\n",
    "\n",
    "        self.image_paths = []\n",
    "#         self.mask_paths = []\n",
    "        for type_ in VALID_IMAGE_TYPES:\n",
    "            self.image_paths += (glob.glob(self.img_dir.rstrip('/')+f'/*.{type_}'))\n",
    "#             self.mask_paths += glob.glob(self.mask_dir+f'/*.{type_}')\n",
    "        self.shape = None        \n",
    "        \n",
    "        plt.ioff() # see https://github.com/matplotlib/matplotlib/issues/17013\n",
    "        self.fig = plt.figure(figsize=figsize)\n",
    "        self.ax = self.fig.gca()\n",
    "        lineprops = {'color': 'black', 'linewidth': 1, 'alpha': 0.8}\n",
    "        self.lasso = LassoSelector(self.ax, self.onselect,lineprops=lineprops, button=1)\n",
    "        self.lasso.set_visible(True)\n",
    "        self.fig.canvas.mpl_connect('button_press_event', self.onclick)\n",
    "        self.fig.canvas.mpl_connect('button_release_event', self._release)\n",
    "        self.panhandler = panhandler(self.fig)\n",
    "        \n",
    "        self.new_image(0)\n",
    "\n",
    "        # setup lasso stuff\n",
    "        \n",
    "\n",
    "        plt.ion()\n",
    "        \n",
    "        if isinstance(classes, int):\n",
    "            classes = np.arange(classes)\n",
    "        if len(classes)<=10:\n",
    "            self.colors = 'tab10'\n",
    "        elif len(classes)<=20:\n",
    "            self.colors = 'tab20'\n",
    "        else:\n",
    "            raise ValueError(f'Currently only up to 20 classes are supported, you tried to use {len(classes)} classes')\n",
    "        \n",
    "        self.colors = plt.get_cmap(self.colors)(np.arange(len(classes)))[:,:3]\n",
    "        \n",
    "        self.class_dropdown = widgets.Dropdown(\n",
    "                options=[(str(classes[i]), i) for i in range(len(classes))],\n",
    "                value=0,\n",
    "                description='Class:',\n",
    "                disabled=False,\n",
    "            )\n",
    "        self.lasso_button = widgets.Button(\n",
    "            description='lasso select',\n",
    "            disabled=False,\n",
    "            button_style='success', # 'success', 'info', 'warning', 'danger' or ''\n",
    "            icon='mouse-pointer', # (FontAwesome names without the `fa-` prefix)\n",
    "        )\n",
    "        self.flood_button = widgets.Button(\n",
    "            description='flood fill',\n",
    "            disabled=False,\n",
    "            button_style='', # 'success', 'info', 'warning', 'danger' or ''\n",
    "            icon='fill-drip', # (FontAwesome names without the `fa-` prefix)\n",
    "        )\n",
    "        \n",
    "        self.erase_check_box = widgets.Checkbox(\n",
    "            value=False,\n",
    "            description='Erase Mode',\n",
    "            disabled=False,\n",
    "            indent=False\n",
    "        )\n",
    "        \n",
    "        self.reset_button = widgets.Button(\n",
    "            description='reset',\n",
    "            disabled=False,\n",
    "            button_style='', # 'success', 'info', 'warning', 'danger' or ''\n",
    "            icon='refresh', # (FontAwesome names without the `fa-` prefix)\n",
    "        )\n",
    "        self.reset_button.on_click(self.reset)\n",
    "        def button_click(button):\n",
    "            if button.description == 'flood fill':\n",
    "                self.flood_button.button_style='success'\n",
    "                self.lasso_button.button_style=''\n",
    "                self.lasso.set_active(False)\n",
    "            else:\n",
    "                self.flood_button.button_style=''\n",
    "                self.lasso_button.button_style='success'\n",
    "                self.lasso.set_active(True)\n",
    "        \n",
    "        self.lasso_button.on_click(button_click)\n",
    "        self.flood_button.on_click(button_click)\n",
    "        self.overlay_alpha = overlay_alpha\n",
    "    def new_image(self, img_idx):\n",
    "        self.img = io.imread(self.image_paths[img_idx])\n",
    "        self.img_idx = img_idx\n",
    "        img_path = self.image_paths[self.img_idx]\n",
    "        \n",
    "        self.mask_path = self.mask_dir + f'/{os.path.basename(img_path)}'\n",
    "        \n",
    "        if self.img.shape != self.shape:\n",
    "            self.shape = self.img.shape\n",
    "            pix_x = np.arange(self.shape[0])\n",
    "            pix_y = np.arange(self.shape[1])\n",
    "            xv, yv = np.meshgrid(pix_y,pix_x)\n",
    "            self.pix = np.vstack( (xv.flatten(), yv.flatten()) ).T\n",
    "            self.displayed = self.ax.imshow(self.img)\n",
    "            if os.path.exists(self.mask_path):\n",
    "                self.class_mask = io.imread(self.mask_path)\n",
    "            else:\n",
    "                self.class_mask = -np.ones([self.shape[0],self.shape[1]],dtype=np.uint8)\n",
    "        else:\n",
    "            self.displayed.set_data(self.img)\n",
    "            if os.path.exists(self.mask_path):\n",
    "                self.class_mask = io.imread(self.mask_path)\n",
    "                # should probs check that the first two dimensions are the same as the img\n",
    "            else:\n",
    "                self.class_mask[:,:] = -1\n",
    "\n",
    "        #ensure that the _nav_stack is empty\n",
    "        self.fig.canvas.toolbar._nav_stack.clear()\n",
    "        #add the initial view to the stack so that the home button works.\n",
    "        self.fig.canvas.toolbar.push_current()\n",
    "        \n",
    "\n",
    "    def _release(self, event):\n",
    "        with out:\n",
    "            self.panhandler.release(event)\n",
    "\n",
    "    def reset(self,*args):\n",
    "        self.displayed.set_data(self.img)\n",
    "        self.class_mask[:,:] = -1\n",
    "        self.fig.canvas.draw()\n",
    "\n",
    "    def onclick(self, event):\n",
    "        \"\"\"\n",
    "        handle clicking to remove already added stuff\n",
    "        \"\"\"\n",
    "        if event.button == 1:\n",
    "            if event.xdata is not None and not self.lasso.active:\n",
    "                with out:\n",
    "                    # transpose x and y bc imshow transposes\n",
    "                    self.indices = flood(self.class_mask,(np.int(event.ydata), np.int(event.xdata)))\n",
    "                    self.updateArray()\n",
    "        elif event.button == 3:\n",
    "            with out:\n",
    "                self.panhandler.press(event)\n",
    "\n",
    "    def updateArray(self):\n",
    "        with out:\n",
    "            array = self.displayed.get_array().data\n",
    "            \n",
    "            if self.erase_check_box.value:\n",
    "                self.class_mask[self.indices] = -1\n",
    "                array[self.indices] = self.img[self.indices]\n",
    "            else:\n",
    "                self.class_mask[self.indices] = self.class_dropdown.value\n",
    "                # https://en.wikipedia.org/wiki/Alpha_compositing#Straight_versus_premultiplied           \n",
    "                c_overlay = self.colors[self.class_dropdown.value]*255*self.overlay_alpha\n",
    "                array[self.indices] = c_overlay + self.img[self.indices]*(1-self.overlay_alpha)\n",
    "            self.displayed.set_data(array)\n",
    "        self.ax.set_title(np.sum(array==1.1))\n",
    "        \n",
    "    def onselect(self,verts):\n",
    "        self.verts = verts\n",
    "        p = Path(verts)\n",
    "\n",
    "        self.indices = p.contains_points(self.pix, radius=0).reshape(450,540)\n",
    "\n",
    "        self.updateArray()\n",
    "        self.fig.canvas.draw_idle()\n",
    "        \n",
    "    def render(self):\n",
    "        layers = [widgets.HBox([self.lasso_button, self.flood_button])]\n",
    "        layers.append(widgets.HBox([self.reset_button, self.class_dropdown,self.erase_check_box]))\n",
    "        layers.append(self.fig.canvas)    \n",
    "        return widgets.VBox(layers)\n",
    "    def save_mask(self):\n",
    "        io.imsave(self.mask_path, self.class_mask)\n",
    "    def _ipython_display_(self):\n",
    "        display(self.render())\n",
    "\n",
    "out.clear_output()\n",
    "plt.close('all')\n",
    "tstimage = io.imread('test-image.jpg')\n",
    "obj = image_segmenter('images', ['yeast','not yeast'])\n",
    "# zoom_factory(obj.ax)\n",
    "from sidecar import Sidecar\n",
    "from ipywidgets import IntSlider\n",
    "sc = Sidecar(title='Segmentation area')\n",
    "sl = IntSlider(description='Some slider')\n",
    "with sc:\n",
    "    # force the _nav_stack to record the initial position so the home button works as expected\n",
    "#     panhandler(obj.fig)\n",
    "\n",
    "    zoom_factory(obj.ax)\n",
    "    display(obj)\n",
    "out"
   ]
  },
  {
   "cell_type": "code",
   "execution_count": 21,
   "metadata": {},
   "outputs": [
    {
     "name": "stderr",
     "output_type": "stream",
     "text": [
      "<ipython-input-20-ed8a9a5d34b6>:202: UserWarning: /home/ian/Documents/AC295/AC295-final-project-JWI/notebooks/masks/test-image.jpg is a low contrast image\n",
      "  io.imsave(self.mask_path, self.class_mask)\n"
     ]
    }
   ],
   "source": [
    "obj.save_mask()"
   ]
  },
  {
   "cell_type": "code",
   "execution_count": 5,
   "metadata": {},
   "outputs": [],
   "source": [
    "\n",
    "img_dir = 'fold'\n",
    "if not os.path.isdir(self.img_dir)\n",
    "#ensure that there is a sibling directory named masks\n",
    "mask_dir = os.path.abspath('fold/').rsplit('/', 1)[0] + '/masks'\n",
    "if not os.path.exists(mask_dir):\n",
    "    os.mkdir(mask_dir)\n",
    "elif not os.path.isdir(mask_dir):\n",
    "    raise ValueError(f'{mask_dir} exists and is not a folder')\n",
    "\n",
    "images = []\n",
    "masks = []\n",
    "for type_ in VALID_IMAGE_TYPES:\n",
    "    images += (glob.glob(img_dir.rstrip('/')+f'/*.{type_}'))\n",
    "    masks += glob.glob(mask_dir+f'/*.{type_}')"
   ]
  },
  {
   "cell_type": "code",
   "execution_count": 59,
   "metadata": {},
   "outputs": [
    {
     "data": {
      "text/plain": [
       "['/home/ian/Documents/AC295/AC295-final-project-JWI/notebooks/masks/test-image.jpg']"
      ]
     },
     "execution_count": 59,
     "metadata": {},
     "output_type": "execute_result"
    }
   ],
   "source": [
    "masks"
   ]
  },
  {
   "cell_type": "code",
   "execution_count": 63,
   "metadata": {},
   "outputs": [
    {
     "data": {
      "text/plain": [
       "'test-image.jpg'"
      ]
     },
     "execution_count": 63,
     "metadata": {},
     "output_type": "execute_result"
    }
   ],
   "source": [
    "os.path.basename(masks[0])"
   ]
  },
  {
   "cell_type": "code",
   "execution_count": 33,
   "metadata": {},
   "outputs": [
    {
     "data": {
      "text/plain": [
       "'fold2'"
      ]
     },
     "execution_count": 33,
     "metadata": {},
     "output_type": "execute_result"
    }
   ],
   "source": [
    "os.path.basename('fold/fold2')"
   ]
  },
  {
   "cell_type": "code",
   "execution_count": 64,
   "metadata": {},
   "outputs": [
    {
     "name": "stderr",
     "output_type": "stream",
     "text": [
      "Lossy conversion from float64 to uint8. Range [-3.796395654838868, 3.5623584462340814]. Convert image to uint8 prior to saving to suppress this warning.\n"
     ]
    }
   ],
   "source": [
    "io.imsave('yikes.png',np.random.randn(100,100))"
   ]
  },
  {
   "cell_type": "code",
   "execution_count": 65,
   "metadata": {},
   "outputs": [
    {
     "data": {
      "text/plain": [
       "array([[181, 106, 121, ..., 118, 130, 102],\n",
       "       [157, 154, 167, ..., 111, 154, 184],\n",
       "       [108, 139,  75, ..., 224, 175, 143],\n",
       "       ...,\n",
       "       [104, 108,  78, ..., 125, 122, 138],\n",
       "       [113, 155, 170, ..., 135, 184, 124],\n",
       "       [164, 122,  79, ..., 124, 135, 140]], dtype=uint8)"
      ]
     },
     "execution_count": 65,
     "metadata": {},
     "output_type": "execute_result"
    }
   ],
   "source": [
    "io.imread('yikes.png')"
   ]
  },
  {
   "cell_type": "code",
   "execution_count": 31,
   "metadata": {},
   "outputs": [
    {
     "name": "stderr",
     "output_type": "stream",
     "text": [
      "<ipython-input-31-435d99a3be45>:1: UserWarning: yikes.png is a low contrast image\n",
      "  io.imsave('yikes.png',obj.class_mask)#,quality=100)\n"
     ]
    }
   ],
   "source": [
    "io.imsave('yikes.png',obj.class_mask)#,quality=100)"
   ]
  },
  {
   "cell_type": "code",
   "execution_count": 32,
   "metadata": {},
   "outputs": [
    {
     "data": {
      "text/plain": [
       "<matplotlib.image.AxesImage at 0x7fe45e0d0df0>"
      ]
     },
     "execution_count": 32,
     "metadata": {},
     "output_type": "execute_result"
    }
   ],
   "source": [
    "plt.imshow(io.imread('yikes.png'))"
   ]
  },
  {
   "cell_type": "code",
   "execution_count": 23,
   "metadata": {},
   "outputs": [
    {
     "data": {
      "text/plain": [
       "<matplotlib.image.AxesImage at 0x7fe4743ad370>"
      ]
     },
     "execution_count": 23,
     "metadata": {},
     "output_type": "execute_result"
    }
   ],
   "source": [
    "plt.imshow(io.imread('masks/test-image.jpg'))"
   ]
  },
  {
   "cell_type": "code",
   "execution_count": null,
   "metadata": {},
   "outputs": [],
   "source": []
  }
 ],
 "metadata": {
  "kernelspec": {
   "display_name": "Python 3",
   "language": "python",
   "name": "python3"
  },
  "language_info": {
   "codemirror_mode": {
    "name": "ipython",
    "version": 3
   },
   "file_extension": ".py",
   "mimetype": "text/x-python",
   "name": "python",
   "nbconvert_exporter": "python",
   "pygments_lexer": "ipython3",
   "version": "3.8.2"
  }
 },
 "nbformat": 4,
 "nbformat_minor": 4
}
