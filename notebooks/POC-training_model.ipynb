{
 "cells": [
  {
   "cell_type": "code",
   "execution_count": 8,
   "metadata": {},
   "outputs": [],
   "source": [
    "import tensorflow as tf\n",
    "from tensorflow.keras.preprocessing.image import ImageDataGenerator\n",
    "from segmentation_models import Unet\n",
    "\n",
    "import numpy as np\n",
    "import matplotlib.pyplot as plt\n",
    "\n"
   ]
  },
  {
   "cell_type": "markdown",
   "metadata": {},
   "source": [
    "### Define separate datagenerators for masks and images"
   ]
  },
  {
   "cell_type": "code",
   "execution_count": 9,
   "metadata": {},
   "outputs": [],
   "source": [
    "options = {'shear_range': 5.,\n",
    "           'zoom_range': 0.5,\n",
    "           'horizontal_flip': True,\n",
    "           'vertical_flip': True\n",
    "          }\n",
    "image_datagen = ImageDataGenerator(\n",
    "    rescale=1./255,\n",
    "    **options\n",
    ")\n",
    "mask_datagen = ImageDataGenerator(\n",
    "    **options\n",
    ")"
   ]
  },
  {
   "cell_type": "markdown",
   "metadata": {},
   "source": [
    "### Flow from directory\n",
    "\n",
    "use the same seed for mask and images in order to give them the same transformations.\n",
    "\n",
    "I think that as it currently is implemented this unet expects the mask to be shape (224, 224, N_classes) and the last dimension is basically a one-hot encoding. We probably need a preprocessing function on the mask data to implement this properly. Alternatively follow the tensorflow example https://www.tensorflow.org/tutorials/images/segmentation. where the shape would be (224,224,1) and the last dimension is an integer, we would have to modify the loss function.\n",
    "\n",
    "Though here we need to choose an approriate loss function\n",
    "\n",
    "Also, currently the zip works as a generator but it doesn't give  length so training just says: `2/unknown`. It should be pretty easy to make our own small generator class. I think it just needs to implement `__yield__` and `__len__` where the len will return a batch size.\n",
    "\n",
    "TODO:\n",
    "\n",
    "1. Process masks in accordance with the model's expectations\n",
    "2. Figure out correct loss function\n",
    "3. (nice to have) generator class"
   ]
  },
  {
   "cell_type": "code",
   "execution_count": 10,
   "metadata": {},
   "outputs": [
    {
     "name": "stdout",
     "output_type": "stream",
     "text": [
      "Found 13 images belonging to 1 classes.\n",
      "Found 13 images belonging to 1 classes.\n"
     ]
    }
   ],
   "source": [
    "# original image is 450x540\n",
    "# these dimensions need to be divisible by 32\n",
    "target_x = 224\n",
    "target_y = 224\n",
    "target_size = (target_x, target_y)\n",
    "\n",
    "seed = np.random.randint(0,1e5)\n",
    "gen_x = image_datagen.flow_from_directory('imgs',seed=seed, target_size=target_size,class_mode=None)\n",
    "gen_y = mask_datagen.flow_from_directory('masks',seed=seed, target_size=target_size,class_mode=None)#,color_mode='grayscale')"
   ]
  },
  {
   "cell_type": "code",
   "execution_count": null,
   "metadata": {},
   "outputs": [],
   "source": []
  },
  {
   "cell_type": "code",
   "execution_count": 11,
   "metadata": {},
   "outputs": [],
   "source": [
    "tf.keras.backend.set_image_data_format('channels_last')\n",
    "model = Unet('resnet18', encoder_weights='imagenet',\n",
    "                 classes=1,\n",
    "                 input_shape=(target_x, target_y, 3))\n",
    "\n",
    "model.compile('Adam', 'categorical_crossentropy', ['binary_accuracy'])"
   ]
  },
  {
   "cell_type": "code",
   "execution_count": null,
   "metadata": {},
   "outputs": [],
   "source": [
    "\n",
    "\n",
    "model.fit(zip(gen_x, gen_y))"
   ]
  },
  {
   "cell_type": "code",
   "execution_count": null,
   "metadata": {},
   "outputs": [],
   "source": []
  }
 ],
 "metadata": {
  "kernelspec": {
   "display_name": "Python 3",
   "language": "python",
   "name": "python3"
  },
  "language_info": {
   "codemirror_mode": {
    "name": "ipython",
    "version": 3
   },
   "file_extension": ".py",
   "mimetype": "text/x-python",
   "name": "python",
   "nbconvert_exporter": "python",
   "pygments_lexer": "ipython3",
   "version": "3.8.2"
  }
 },
 "nbformat": 4,
 "nbformat_minor": 4
}
